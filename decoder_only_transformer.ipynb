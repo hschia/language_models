{
 "cells": [
  {
   "cell_type": "markdown",
   "id": "f399208a-ebee-467d-85af-f6ba5bd0b855",
   "metadata": {},
   "source": [
    "## Decoder-only Autoregressive Transformer"
   ]
  },
  {
   "cell_type": "code",
   "execution_count": 1,
   "id": "3703d48d-a6f1-4754-96cf-60c76b009049",
   "metadata": {},
   "outputs": [],
   "source": [
    "import numpy as np\n",
    "import matplotlib.pyplot as plt\n",
    "import math\n",
    "import time\n",
    "\n",
    "import torch\n",
    "from torch import nn\n",
    "from torch.utils import data\n",
    "\n",
    "import sequence as seq\n",
    "from IPython import display"
   ]
  },
  {
   "cell_type": "code",
   "execution_count": 2,
   "id": "f008ba15-829c-4ae7-ab7f-95767762ec5e",
   "metadata": {},
   "outputs": [
    {
     "data": {
      "text/plain": [
       "True"
      ]
     },
     "execution_count": 2,
     "metadata": {},
     "output_type": "execute_result"
    }
   ],
   "source": [
    "torch.cuda.is_available()"
   ]
  },
  {
   "cell_type": "code",
   "execution_count": null,
   "id": "b3adf851-082b-4d1e-853b-fd066dc016c0",
   "metadata": {},
   "outputs": [],
   "source": []
  },
  {
   "cell_type": "markdown",
   "id": "3dc9dbd7-bd9d-4dcb-a82b-98866701d55d",
   "metadata": {
    "jp-MarkdownHeadingCollapsed": true,
    "tags": []
   },
   "source": [
    "### Setup"
   ]
  },
  {
   "cell_type": "code",
   "execution_count": 229,
   "id": "5daf07a5-c610-432f-a0e9-b9dc5ee6b04c",
   "metadata": {},
   "outputs": [],
   "source": [
    "############ MultiHeadAttention Class ############\n",
    "\n",
    "class ScaledDotProductAttention(nn.Module):\n",
    "    def __init__(self, context_len, dropout, *args, **kwargs):\n",
    "        super().__init__()\n",
    "        self.dropout = nn.Dropout(dropout)\n",
    "        self.register_buffer('tril_mask', torch.tril(torch.ones(context_len, context_len)))\n",
    "    \n",
    "    def forward(self, q, k, v, causal_masking=True):\n",
    "        # shape of q, k, v: (batch_size, n_steps, d_model)\n",
    "        shape = q.shape\n",
    "        \n",
    "        scores = torch.einsum('ijk, ilk -> ijl', q, k) / math.sqrt(shape[-1])\n",
    "        if causal_masking:\n",
    "            scores = scores.masked_fill(self.tril_mask[:shape[1], :shape[1]] == 0, -1e9)\n",
    "        self.attention_weights = nn.functional.softmax(scores, dim=-1)\n",
    "        return torch.einsum('ijk, ikl -> ijl', self.dropout(self.attention_weights), v)\n",
    "\n",
    "def split_qkv(X, n_heads):\n",
    "    # turn input X shape (batch_size, n_steps, d_model) -> (batch_size*n_heads, n_steps, d_model/n_heads)\n",
    "    X = X.reshape(X.shape[0], X.shape[1], n_heads, -1)\n",
    "    X = X.permute(0, 2, 1, 3)\n",
    "    return X.reshape(-1, X.shape[2], X.shape[3])\n",
    "\n",
    "def concat_qkv(X, n_heads):\n",
    "    # reverse split_qkv operation\n",
    "    X = X.reshape(-1, n_heads, X.shape[1], X.shape[2])\n",
    "    X = X.permute(0,2,1,3)\n",
    "    return X.reshape(X.shape[0], X.shape[1], -1)\n",
    "\n",
    "class MultiHeadAttention(nn.Module):\n",
    "    def __init__(self, n_heads, d_model, context_len, dropout, bias=False, *args, **kwargs):\n",
    "        super().__init__()\n",
    "        self.attention = ScaledDotProductAttention(context_len, dropout)\n",
    "        self.n_heads = n_heads\n",
    "        # perform linear operation before splitting q, k, v into n_heads\n",
    "        self.W_q = nn.Linear(d_model, d_model, bias=bias)\n",
    "        self.W_k = nn.Linear(d_model, d_model, bias=bias)\n",
    "        self.W_v = nn.Linear(d_model, d_model, bias=bias)\n",
    "        self.W_o = nn.Linear(d_model, d_model, bias=bias)\n",
    "        \n",
    "    def forward(self, q, k, v, causal_masking=True):\n",
    "        \n",
    "        q = split_qkv(self.W_q(q), self.n_heads)\n",
    "        k = split_qkv(self.W_k(k), self.n_heads)\n",
    "        v = split_qkv(self.W_v(v), self.n_heads)\n",
    "        \n",
    "        output = self.attention(q, k, v, causal_masking)\n",
    "        return self.W_o(concat_qkv(output, self.n_heads))\n",
    "    \n",
    "    \n",
    "############ MultiHeadAttention Class from Karpathy's lectures ############\n",
    "    \n",
    "class Head(nn.Module):\n",
    "    def __init__(self, d_model, d_head, context_len, dropout, bias=False, *args, **kwargs):\n",
    "        super().__init__()\n",
    "        self.attention = ScaledDotProductAttention(context_len, dropout)\n",
    "        self.W_q = nn.Linear(d_model, d_head, bias=False)\n",
    "        self.W_k = nn.Linear(d_model, d_head, bias=False)\n",
    "        self.W_v = nn.Linear(d_model, d_head, bias=False)\n",
    "        \n",
    "    def forward(self, q, k, v, causal_masking=True):\n",
    "        q = self.W_q(q)\n",
    "        k = self.W_k(k)\n",
    "        v = self.W_v(v)\n",
    "        \n",
    "        return self.attention(q, k, v, causal_masking)\n",
    "    \n",
    "class MultiHeadAttention_Karpathy(nn.Module):\n",
    "    def __init__(self, n_heads, d_model, context_len, dropout, bias=False, *args, **kwargs):\n",
    "        super().__init__()\n",
    "        if d_model % n_heads != 0:\n",
    "            raise Exception('d_model % n_heads must be zero!')\n",
    "        d_head = int(d_model/n_heads)\n",
    "        # if d_model / n_heads \n",
    "        self.heads = nn.ModuleList([Head(d_model, d_head, context_len, dropout) for _ in range(n_heads)])\n",
    "        self.W_o = nn.Linear(d_model, d_model, bias=bias)\n",
    "    \n",
    "    def forward(self, q, k, v, causal_masking=True):\n",
    "        output = torch.cat([h(q, k, v, causal_masking) for h in self.heads], dim=-1)\n",
    "        return self.W_o(output)\n",
    "        \n",
    "############################################################\n",
    "\n",
    "    \n",
    "class PositionWiseFFN(nn.Module):\n",
    "    def __init__(self, d_model, d_hidden, bias=False, *args, **kwargs):\n",
    "        super().__init__()\n",
    "        self.ffn1 = nn.Linear(d_model, d_hidden)\n",
    "        self.relu = nn.ReLU()\n",
    "        self.ffn2 = nn.Linear(d_hidden, d_model)\n",
    "        \n",
    "    def forward(self, X):\n",
    "        return self.ffn2(self.relu(self.ffn1(X)))\n",
    "    \n",
    "class DecoderLayer(nn.Module):\n",
    "    def __init__(self, n_heads, d_model, context_len, dropout, d_hidden, bias=False, *args, **kwargs):\n",
    "        super().__init__()\n",
    "        self.masked_self_attention = MultiHeadAttention(n_heads, d_model, context_len, dropout, bias=bias)\n",
    "        self.layer_norm1 = nn.LayerNorm(d_model)\n",
    "        self.positionwise_ffn = PositionWiseFFN(d_model, d_hidden)\n",
    "        self.layer_norm2 = nn.LayerNorm(d_model)\n",
    "    \n",
    "    def forward(self, X, causal_masking=True):\n",
    "        X = X + self.masked_self_attention(self.layer_norm1(X), self.layer_norm1(X), self.layer_norm1(X), causal_masking=causal_masking) # preactivation norm\n",
    "        return X + self.positionwise_ffn(self.layer_norm2(X))\n",
    "\n",
    "class DecoderOnlyTransformer(nn.Module):\n",
    "    def __init__(self, n_layers, n_heads, d_model, vocab_size, context_len, dropout, d_hidden, bias=False, *args, **kwargs):\n",
    "        super().__init__()\n",
    "        self.context_len = context_len\n",
    "        self.token_embed = nn.Embedding(vocab_size, d_model) \n",
    "        self.pos_embed = nn.Embedding(context_len, d_model) # embedding for locations 0, 1, 2, ...context_len\n",
    "        self.layers = nn.Sequential(*[DecoderLayer(n_heads, d_model, context_len, dropout, d_hidden, bias=bias) for _ in range(n_layers)])\n",
    "        self.layer_norm_final = nn.LayerNorm(d_model)\n",
    "        self.ffn_final = nn.Linear(d_model, vocab_size)\n",
    "        \n",
    "    def forward(self, idx, targets=None):\n",
    "        # input idx shape (batch_size, context_len)\n",
    "        # targets shape (batch_size, context_len)\n",
    "        \n",
    "        batch_size, context_len = idx.shape\n",
    "        token_embed = self.token_embed(idx) # (batch_size, context_len, d_model)\n",
    "        pos_embed = self.pos_embed(torch.arange(0, context_len, device=idx.device)) # (context_len, d_model)\n",
    "        \n",
    "        X = token_embed + pos_embed\n",
    "        X = self.layers(X)\n",
    "        X = self.layer_norm_final(X)\n",
    "        logits = self.ffn_final(X) # (batch_size, context_len, vocab_size)\n",
    "        \n",
    "        if targets is None:\n",
    "            loss = None\n",
    "        else:\n",
    "            batch_size, context_len, _ = logits.shape\n",
    "            logits = logits.view(batch_size*context_len, -1)\n",
    "            targets = targets.view(batch_size*context_len)\n",
    "            loss = nn.functional.cross_entropy(logits, targets)\n",
    "        \n",
    "        return logits, loss\n",
    "    \n",
    "    def generate(self, input_idx, maxlen=1000):\n",
    "        # input_idx shape: (batch_size, n_steps), where n_steps iteratively increases by 1 until it reaches maxlen\n",
    "        \n",
    "        for _ in range(maxlen):\n",
    "            \n",
    "            context_idx = input_idx[:, -self.context_len:] # look at most recent past context_len tokens\n",
    "            logits, loss = self(context_idx)\n",
    "            logits = logits[:,-1,:] # focus on last step\n",
    "            probs = nn.functional.softmax(logits, dim=-1)\n",
    "            next_idx = torch.multinomial(probs, 1)\n",
    "            input_idx = torch.cat([input_idx, next_idx], dim=1)\n",
    "        \n",
    "        return input_idx\n",
    "            \n",
    "         \n",
    "        "
   ]
  },
  {
   "cell_type": "code",
   "execution_count": 230,
   "id": "abee4fac-2c99-4973-8433-bf46641ffe5d",
   "metadata": {},
   "outputs": [],
   "source": [
    "with open('input.txt', 'r') as f:\n",
    "    text = f.read()\n",
    "    \n",
    "vocab = sorted(list(set(text)))\n",
    "vocab_size = len(vocab)\n",
    "char_id = {c:i for i, c in enumerate(vocab)}\n",
    "id_char = {i:c for i, c in enumerate(vocab)}\n",
    "encode = lambda s: [char_id[c] for c in s]\n",
    "decode = lambda l: ''.join([id_char[i] for i in l])\n",
    "\n",
    "data = torch.tensor(encode(text), dtype=torch.long)\n",
    "train_frac = 0.9\n",
    "train_size = int(train_frac*len(data))\n",
    "train_data = data[:train_size]\n",
    "val_data = data[train_size:]\n",
    "\n",
    "def get_data(batch_size, context_len, device, mode='train'):\n",
    "    data = train_data if mode == 'train' else val_data\n",
    "    \n",
    "    rand_i = torch.randint(0, len(data) - context_len, size=(batch_size, ))\n",
    "    X = torch.stack([data[i:i+context_len] for i in rand_i], dim=0)\n",
    "    Y = torch.stack([data[i+1:i+1+context_len] for i in rand_i], dim=0)\n",
    "    X, Y = X.to(device), Y.to(device)\n",
    "    \n",
    "    return X, Y"
   ]
  },
  {
   "cell_type": "code",
   "execution_count": 231,
   "id": "5696c36d-0423-4d5a-b721-367bb22f49da",
   "metadata": {},
   "outputs": [],
   "source": [
    "def train(net, batch_size, context_len, n_epochs, optimizer, device):\n",
    "    \n",
    "    def init_weights(m):\n",
    "        if type(m) == nn.Linear:\n",
    "            nn.init.kaiming_normal_(m.weight)\n",
    "    net.apply(init_weights)\n",
    "    net.to(device)\n",
    "    \n",
    "    fig = plt.figure(figsize=(10,6))\n",
    "    \n",
    "    train_loss_ls = []\n",
    "    test_loss_ls = []\n",
    "    for epoch in range(n_epochs):\n",
    "        \n",
    "        # train loop\n",
    "        # train_metrics = Accumulator(2) # train loss\n",
    "        net.train()\n",
    "        \n",
    "        X, Y = get_data(batch_size, context_len, device, mode='train')\n",
    "        optimizer.zero_grad()\n",
    "        X, Y = X.to(device), Y.to(device)\n",
    "        logits, loss = net(X, Y)\n",
    "        loss.backward()\n",
    "        optimizer.step()\n",
    "\n",
    "        with torch.no_grad():\n",
    "            train_loss_ls.append(loss)\n",
    "        \n",
    "        # test loop\n",
    "        net.eval()\n",
    "        \n",
    "        X, Y = get_data(batch_size, context_len, device, mode='test')\n",
    "        with torch.no_grad():\n",
    "            X, Y = X.to(device), Y.to(device)\n",
    "            logits, loss = net(X, Y)\n",
    "            test_loss_ls.append(loss)\n",
    "        \n",
    "        if epoch % eval_iter == 0 or epoch == n_epochs-1:\n",
    "            plt.semilogy(torch.arange(epoch+1), torch.tensor(train_loss_ls), c='C0', label='train loss')\n",
    "            plt.semilogy(torch.arange(epoch+1), torch.tensor(test_loss_ls), c='C1', label='test loss')\n",
    "            if epoch == 0:\n",
    "                plt.legend()\n",
    "            plt.xlabel('epochs')\n",
    "            display.display(fig)\n",
    "            display.clear_output(wait=True)\n",
    "    \n",
    "    return train_loss_ls, test_loss_ls\n",
    "        "
   ]
  },
  {
   "cell_type": "markdown",
   "id": "54872e3a-7d22-4f8e-8684-b4d367116501",
   "metadata": {},
   "source": [
    "### Training and Results"
   ]
  },
  {
   "cell_type": "code",
   "execution_count": 232,
   "id": "7f1e7d38-eebc-4bb9-94ac-5e13e6c9ad40",
   "metadata": {
    "tags": []
   },
   "outputs": [],
   "source": [
    "batch_size = 32\n",
    "eval_iter = 200\n",
    "n_epochs = 2000\n",
    "\n",
    "n_layers = 12\n",
    "n_heads = 8\n",
    "d_model = 256\n",
    "vocab_size = len(vocab)\n",
    "context_len = 64\n",
    "dropout = 0.1\n",
    "d_hidden = d_model*4\n",
    "learning_rate = 1e-3\n",
    "device = torch.device('cuda:0') if torch.cuda.is_available() else torch.device('cpu')\n",
    "# device = 'cuda' if torch.cuda.is_available() else 'cpu'"
   ]
  },
  {
   "cell_type": "code",
   "execution_count": 233,
   "id": "9c1ebb4c-26d7-46cf-93b2-7227f326346c",
   "metadata": {},
   "outputs": [],
   "source": [
    "net = DecoderOnlyTransformer(n_layers, n_heads, d_model, vocab_size, context_len, dropout, d_hidden)\n",
    "\n",
    "optimizer = torch.optim.AdamW(net.parameters(), lr=learning_rate)"
   ]
  },
  {
   "cell_type": "code",
   "execution_count": 234,
   "id": "8053420e-784c-46a6-8b30-824aaa525f6d",
   "metadata": {},
   "outputs": [
    {
     "name": "stdout",
     "output_type": "stream",
     "text": [
      "model size: 9.515073 M\n"
     ]
    }
   ],
   "source": [
    "print('model size:', sum([p.numel() for p in net.parameters()]) / 1e6, 'M')"
   ]
  },
  {
   "cell_type": "code",
   "execution_count": 235,
   "id": "9c6ab1b3-2681-4dd4-a7ab-15af3f431992",
   "metadata": {},
   "outputs": [
    {
     "name": "stdout",
     "output_type": "stream",
     "text": [
      "Time taken to train: 102.25 [s]\n"
     ]
    },
    {
     "data": {
      "image/png": "[encoded data removed]",
      "text/plain": [
       "<Figure size 720x432 with 1 Axes>"
      ]
     },
     "metadata": {
      "needs_background": "light"
     },
     "output_type": "display_data"
    }
   ],
   "source": [
    "# D2L's multihead attention\n",
    "start_time = time.time()\n",
    "train_loss_ls, test_loss_ls = train(net, batch_size, context_len, n_epochs, optimizer, device)\n",
    "print('Time taken to train:', f'{time.time() - start_time:.2f}', '[s]')"
   ]
  },
  {
   "cell_type": "code",
   "execution_count": 236,
   "id": "c985cb7e-be74-42c1-b24e-62ffa05a2d35",
   "metadata": {},
   "outputs": [
    {
     "name": "stdout",
     "output_type": "stream",
     "text": [
      " not atter.\n",
      "I am to the join, it is father or ilkness\n",
      "As depers! Crust, well, begins or the must, sesinful\n",
      "Thwid wite: not pardien; thought\n",
      "shed that suster aldetible and beg, throok wash,\n",
      "Thither dying do the consuments alnioless, as and bearen\n",
      "These not assire; though fight Solies\n",
      "That she more thou too our brathee to my troys:\n",
      "that worth the true deep shall the excuse\n",
      "A woe's grils.\n",
      "Midnessless side us whilst I the widow deser\n",
      "Aready of this a, to the interate him.\n",
      "Andnence, I to tendime I proseed rage,\n",
      "And his preached doin best rich togetimes feith!\n",
      "This present your horses deep with of dispicious\n",
      "As your lord,-will forth strutch.\n",
      "To be For this no made with their more constrantate;\n",
      "Afthoposing ow thou haste of boding's.\n",
      "\n",
      "EDWARD:\n",
      "Let 'said west thee still you turs it? Yewill to end\n",
      "Fite out smile the of smies I may promise wild a wessigh\n",
      "of Theil, wasting dnowne accure! I present\n",
      "Scive you tees doublinging, and would fortug,\n",
      "A ton. Gloucture thy content done.\n",
      "\n",
      "First Solseen:\n",
      "Why? our substrouse enocious, our letters,\n",
      "And he dies but by a waspes in bither blood.\n",
      "\n",
      "Citizens:\n",
      "And he bidnessed, and deep of he\n",
      "Thou hasted beenly deposed\n",
      "With not to meed, planters the encousabe\n",
      "To do someth way, Caiu would retain with you.\n",
      "\n",
      "BUCKINGHAM:\n",
      "A nighine of scalence of you.\n",
      "A people, and see were by,\n",
      "For I have I trubs stain in these to bear\n",
      "My lieges and letss sweet allow'd as disernce,\n",
      "As do so dieudle to cutio; your father,\n",
      "I do be tend mank upon die the brokewed!\n",
      "\n",
      "First Senates,--Paliff,. What, kill'd those follows,\n",
      "Retriits some to the judgesh other an deams-benious perge;\n",
      "Which hath turn our joys our leady?\n",
      "Within ease which twhine than the sweet? when they's the blow?\n",
      "\n",
      "WATWICK:\n",
      "Gaw you must please to bled me.\n",
      "\n",
      "LADY ANNE:\n",
      "Sil, man,' shalliege\n",
      "Mast ve itocut a than wite took the pasherishy\n",
      "Bess year-trunt.\n",
      "\n",
      "EDWARD:\n",
      "Within depherile with eithout.\n",
      "\n",
      "Citizens:\n",
      "Then I, yet my honour lebirs he to good and Senvel'd I'ldow:\n",
      "I happy the queents of as wintriccanced will\n",
      "Andterity si\n"
     ]
    }
   ],
   "source": [
    "# generate text from model\n",
    "init_context = torch.tensor([[1]], dtype=torch.long, device=device)\n",
    "print(decode(net.generate(init_context, maxlen=2000)[0].tolist()))"
   ]
  },
  {
   "cell_type": "code",
   "execution_count": null,
   "id": "2989e5d0-4426-44fc-a4ee-ec8b7166dce2",
   "metadata": {},
   "outputs": [],
   "source": []
  },
  {
   "cell_type": "code",
   "execution_count": 227,
   "id": "c34f4ca1-4e18-4fb3-8aa7-4cf6a7c1e888",
   "metadata": {},
   "outputs": [
    {
     "name": "stdout",
     "output_type": "stream",
     "text": [
      "Time taken to train: 354.36 [s]\n"
     ]
    },
    {
     "data": {
      "image/png": "[encoded data removed]",
      "text/plain": [
       "<Figure size 720x432 with 1 Axes>"
      ]
     },
     "metadata": {
      "needs_background": "light"
     },
     "output_type": "display_data"
    }
   ],
   "source": [
    "# Karpathy's multihead attention\n",
    "start_time = time.time()\n",
    "train_loss_ls, test_loss_ls = train(net, batch_size, context_len, n_epochs, optimizer, device)\n",
    "print('Time taken to train:', f'{time.time() - start_time:.2f}', '[s]')"
   ]
  },
  {
   "cell_type": "code",
   "execution_count": 228,
   "id": "5f6e90a1-172c-4912-89a5-8bde0195f5f7",
   "metadata": {},
   "outputs": [
    {
     "name": "stdout",
     "output_type": "stream",
     "text": [
      " arvanch: thy weak.\n",
      "\n",
      "BUCKINGHAM:\n",
      "In betweer use the bare of thy great is rrow\n",
      "Against you do plocume woe with come with locks.\n",
      "\n",
      "ANTOLYCUS:\n",
      "Prithee, lie blood my lord, in one basgy'd, my came son\n",
      "And ridly you sings Held Claudio,'d, untoised\n",
      "Why lasting may the refiteroen less. Fare thou\n",
      "To stilling, hath the crucl coldier cours?\n",
      "\n",
      "ISABELLA:\n",
      "Yea, thou ragedy swear phants?\n",
      "And I hupby it say,\n",
      "Not a gentleman's countly father, I shall I bew\n",
      "He is good our woot-there heers trithee,\n",
      "For fall Mayius to her to-stue me of poor the night,\n",
      "And or, and lacken howsion as that swome\n",
      "For pow misture three in spoil flow o' the circum?\n",
      "\n",
      "First Seem:\n",
      "Go, sir, for plock matchme of you'lk for thy Camilors.\n",
      "Why, I go had hate come: to with heoppes!\n",
      "Come say, Curia, my lord; look in women!\n",
      "Who we the daughter\n",
      "Selighters a life; thou are disconcirance\n",
      "The ways of the Tweet\n",
      "Hath would we snain was nother cacution.\n",
      "\n",
      "LUCIO:\n",
      "I must, in sue hope day, to Bly cannot Lord?\n",
      "\n",
      "KING HENRY VI:\n",
      "Sweet with thee royen his nay, Watch he hard,\n",
      "I thoughs.\n",
      "\n",
      "HENRY BOLINGBROKE:\n",
      "Shavisw, fear I gold?\n",
      "\n",
      "CORIOLANUS:\n",
      "A wot\n",
      "Will him to accompany: but love give\n",
      "Up she is hath lands; then say when with Heaven,\n",
      "Being strength time sorroward\n",
      "And abide good of.\n",
      "\n",
      "PRINCESTER:\n",
      "We leave me?\n",
      "\n",
      "DUKE VINCENTIO:\n",
      "I have vised resised of good as good faims,\n",
      "For, the gentle of charby, thou'ty canstlace.\n",
      "Without timbs Lordual, thy stand thou was for my cross\n",
      "As strongs and supposer: I fear it it.\n",
      "What, Hastings, Pain peoprison and for richer;\n",
      "But freening for them nine law would\n",
      "With refvereadnench'd not herhite hated: Then?\n",
      "\n",
      "HORT:\n",
      "They would sir, pow his that I plead any you,\n",
      "Who keep my father false rouds him adway,\n",
      "Dov, my lord. O peason with God, his risolanue?\n",
      "\n",
      "RIVERS:\n",
      "Timas it I shad will be him.\n",
      "\n",
      "Clown:\n",
      "They will speak so him a livelyon ago.\n",
      "\n",
      "CLARENCE:\n",
      "Most first not shright, the quaren shall day kize\n",
      "Sweet for the quarry Juiet, thou bear of thy sir:\n",
      "Vo eie comes the war. Before the wus: have no fate,\n",
      "But gone of you but of the \n"
     ]
    }
   ],
   "source": [
    "# generate text from model\n",
    "init_context = torch.tensor([[1]], dtype=torch.long, device=device)\n",
    "print(decode(net.generate(init_context, maxlen=2000)[0].tolist()))"
   ]
  },
  {
   "cell_type": "code",
   "execution_count": null,
   "id": "7df59ac9-6946-4d9e-bf29-f225f9bbc918",
   "metadata": {},
   "outputs": [],
   "source": []
  },
  {
   "cell_type": "code",
   "execution_count": null,
   "id": "d68a67c9-c8b7-47b4-88d9-f30f27c3b700",
   "metadata": {},
   "outputs": [],
   "source": []
  }
 ],
 "metadata": {
  "kernelspec": {
   "display_name": "Python 3",
   "language": "python",
   "name": "python3"
  },
  "language_info": {
   "codemirror_mode": {
    "name": "ipython",
    "version": 3
   },
   "file_extension": ".py",
   "mimetype": "text/x-python",
   "name": "python",
   "nbconvert_exporter": "python",
   "pygments_lexer": "ipython3",
   "version": "3.6.15"
  }
 },
 "nbformat": 4,
 "nbformat_minor": 5
}
